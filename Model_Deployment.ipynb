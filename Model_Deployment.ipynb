{
  "nbformat": 4,
  "nbformat_minor": 0,
  "metadata": {
    "colab": {
      "provenance": [],
      "mount_file_id": "1FkeB8Xhqyb6VWVugoxYsLrAHqdYZmcdJ",
      "authorship_tag": "ABX9TyPqT5J2zHx9tMyMzK6Toaz/",
      "include_colab_link": true
    },
    "kernelspec": {
      "name": "python3",
      "display_name": "Python 3"
    },
    "language_info": {
      "name": "python"
    }
  },
  "cells": [
    {
      "cell_type": "markdown",
      "metadata": {
        "id": "view-in-github",
        "colab_type": "text"
      },
      "source": [
        "<a href=\"https://colab.research.google.com/github/Ninad2603/ML_Projects/blob/main/Model_Deployment.ipynb\" target=\"_parent\"><img src=\"https://colab.research.google.com/assets/colab-badge.svg\" alt=\"Open In Colab\"/></a>"
      ]
    },
    {
      "cell_type": "code",
      "execution_count": null,
      "metadata": {
        "id": "XzfOC9TkCfJu"
      },
      "outputs": [],
      "source": [
        "import pickle\n",
        "\n",
        "# Load the saved model from the file\n",
        "with open('/content/drive/MyDrive/Saved_Model/rf_1.pkl', 'rb') as f:\n",
        "    classifier = pickle.load(f)"
      ]
    },
    {
      "cell_type": "code",
      "source": [
        "classifier"
      ],
      "metadata": {
        "colab": {
          "base_uri": "https://localhost:8080/",
          "height": 74
        },
        "id": "T01UsiEUXL0Z",
        "outputId": "0941dce0-02f6-4acd-91c4-8a6d8ae59663"
      },
      "execution_count": 21,
      "outputs": [
        {
          "output_type": "execute_result",
          "data": {
            "text/plain": [
              "RandomForestClassifier(n_estimators=300)"
            ],
            "text/html": [
              "<style>#sk-container-id-5 {color: black;background-color: white;}#sk-container-id-5 pre{padding: 0;}#sk-container-id-5 div.sk-toggleable {background-color: white;}#sk-container-id-5 label.sk-toggleable__label {cursor: pointer;display: block;width: 100%;margin-bottom: 0;padding: 0.3em;box-sizing: border-box;text-align: center;}#sk-container-id-5 label.sk-toggleable__label-arrow:before {content: \"▸\";float: left;margin-right: 0.25em;color: #696969;}#sk-container-id-5 label.sk-toggleable__label-arrow:hover:before {color: black;}#sk-container-id-5 div.sk-estimator:hover label.sk-toggleable__label-arrow:before {color: black;}#sk-container-id-5 div.sk-toggleable__content {max-height: 0;max-width: 0;overflow: hidden;text-align: left;background-color: #f0f8ff;}#sk-container-id-5 div.sk-toggleable__content pre {margin: 0.2em;color: black;border-radius: 0.25em;background-color: #f0f8ff;}#sk-container-id-5 input.sk-toggleable__control:checked~div.sk-toggleable__content {max-height: 200px;max-width: 100%;overflow: auto;}#sk-container-id-5 input.sk-toggleable__control:checked~label.sk-toggleable__label-arrow:before {content: \"▾\";}#sk-container-id-5 div.sk-estimator input.sk-toggleable__control:checked~label.sk-toggleable__label {background-color: #d4ebff;}#sk-container-id-5 div.sk-label input.sk-toggleable__control:checked~label.sk-toggleable__label {background-color: #d4ebff;}#sk-container-id-5 input.sk-hidden--visually {border: 0;clip: rect(1px 1px 1px 1px);clip: rect(1px, 1px, 1px, 1px);height: 1px;margin: -1px;overflow: hidden;padding: 0;position: absolute;width: 1px;}#sk-container-id-5 div.sk-estimator {font-family: monospace;background-color: #f0f8ff;border: 1px dotted black;border-radius: 0.25em;box-sizing: border-box;margin-bottom: 0.5em;}#sk-container-id-5 div.sk-estimator:hover {background-color: #d4ebff;}#sk-container-id-5 div.sk-parallel-item::after {content: \"\";width: 100%;border-bottom: 1px solid gray;flex-grow: 1;}#sk-container-id-5 div.sk-label:hover label.sk-toggleable__label {background-color: #d4ebff;}#sk-container-id-5 div.sk-serial::before {content: \"\";position: absolute;border-left: 1px solid gray;box-sizing: border-box;top: 0;bottom: 0;left: 50%;z-index: 0;}#sk-container-id-5 div.sk-serial {display: flex;flex-direction: column;align-items: center;background-color: white;padding-right: 0.2em;padding-left: 0.2em;position: relative;}#sk-container-id-5 div.sk-item {position: relative;z-index: 1;}#sk-container-id-5 div.sk-parallel {display: flex;align-items: stretch;justify-content: center;background-color: white;position: relative;}#sk-container-id-5 div.sk-item::before, #sk-container-id-5 div.sk-parallel-item::before {content: \"\";position: absolute;border-left: 1px solid gray;box-sizing: border-box;top: 0;bottom: 0;left: 50%;z-index: -1;}#sk-container-id-5 div.sk-parallel-item {display: flex;flex-direction: column;z-index: 1;position: relative;background-color: white;}#sk-container-id-5 div.sk-parallel-item:first-child::after {align-self: flex-end;width: 50%;}#sk-container-id-5 div.sk-parallel-item:last-child::after {align-self: flex-start;width: 50%;}#sk-container-id-5 div.sk-parallel-item:only-child::after {width: 0;}#sk-container-id-5 div.sk-dashed-wrapped {border: 1px dashed gray;margin: 0 0.4em 0.5em 0.4em;box-sizing: border-box;padding-bottom: 0.4em;background-color: white;}#sk-container-id-5 div.sk-label label {font-family: monospace;font-weight: bold;display: inline-block;line-height: 1.2em;}#sk-container-id-5 div.sk-label-container {text-align: center;}#sk-container-id-5 div.sk-container {/* jupyter's `normalize.less` sets `[hidden] { display: none; }` but bootstrap.min.css set `[hidden] { display: none !important; }` so we also need the `!important` here to be able to override the default hidden behavior on the sphinx rendered scikit-learn.org. See: https://github.com/scikit-learn/scikit-learn/issues/21755 */display: inline-block !important;position: relative;}#sk-container-id-5 div.sk-text-repr-fallback {display: none;}</style><div id=\"sk-container-id-5\" class=\"sk-top-container\"><div class=\"sk-text-repr-fallback\"><pre>RandomForestClassifier(n_estimators=300)</pre><b>In a Jupyter environment, please rerun this cell to show the HTML representation or trust the notebook. <br />On GitHub, the HTML representation is unable to render, please try loading this page with nbviewer.org.</b></div><div class=\"sk-container\" hidden><div class=\"sk-item\"><div class=\"sk-estimator sk-toggleable\"><input class=\"sk-toggleable__control sk-hidden--visually\" id=\"sk-estimator-id-5\" type=\"checkbox\" checked><label for=\"sk-estimator-id-5\" class=\"sk-toggleable__label sk-toggleable__label-arrow\">RandomForestClassifier</label><div class=\"sk-toggleable__content\"><pre>RandomForestClassifier(n_estimators=300)</pre></div></div></div></div></div>"
            ]
          },
          "metadata": {},
          "execution_count": 21
        }
      ]
    },
    {
      "cell_type": "markdown",
      "source": [
        "Original name for X9:  After-tax net Interest Rate\n",
        "\n",
        "Original name for X11:  Continuous interest rate (after tax)\n",
        "\n",
        "Original name for X14:  Cash flow rate\n",
        "\n",
        "Original name for X19:  Net Value Per Share (C)\n",
        "\n",
        "Original name for X34:  Current Ratio\n",
        "\n",
        "Original name for X36:  Interest Expense Ratio\n",
        "\n",
        "Original name for X47:  Accounts Receivable Turnover\n",
        "\n",
        "Original name for X49:  Inventory Turnover Rate (times)\n",
        "\n",
        "Original name for X59:  Quick Assets/Current Liability\n",
        "\n",
        "Original name for X95:  Net Income Flag\n"
      ],
      "metadata": {
        "id": "gKnm-bfUWLCw"
      }
    },
    {
      "cell_type": "markdown",
      "source": [
        "## Deploying the machine learning model using streamlit\n",
        "\n",
        "1. Building the Frontend of the application\n",
        "2. Loading and Pre-processing the data\n",
        "3. Building the Machine Learning model to automate Loan Eligibility\n",
        "4. Deploying the application"
      ],
      "metadata": {
        "id": "QxJRuj4GEYAu"
      }
    },
    {
      "cell_type": "markdown",
      "source": [
        "## 1. Building the Frontend of the application\n",
        "\n",
        "1.1 Install Required Libraries<br>\n",
        "1.2 Creating the Frontend of the app using Streamlit\n",
        "\n",
        "### 1.1 Install Required Libraries"
      ],
      "metadata": {
        "id": "9b_D2s4ZEdpN"
      }
    },
    {
      "cell_type": "code",
      "source": [
        "# installing streamlit\n",
        "!pip install -q streamlit"
      ],
      "metadata": {
        "id": "veJRX87pXi0P"
      },
      "execution_count": 22,
      "outputs": []
    },
    {
      "cell_type": "markdown",
      "source": [
        "### 1.2. Creating the frontend of the app using streamlit"
      ],
      "metadata": {
        "id": "edwwELrpEmr3"
      }
    },
    {
      "cell_type": "code",
      "source": [
        "# creating the script\n",
        "%%writefile app.py\n",
        "\n",
        "# importing required libraries\n",
        "import pickle\n",
        "import streamlit as st\n",
        "\n",
        "# loading the trained model\n",
        "pickle_in = open('/content/drive/MyDrive/Saved_Model/rf_1_model.pkl', 'rb')\n",
        "classifier = pickle.load(pickle_in)\n",
        "\n",
        "\n",
        "# this is the main function in which we define our app\n",
        "def main():\n",
        "    # header of the page\n",
        "    st.markdown(\"Company Bankrupcy Prediction\")\n",
        "\n",
        "    # 2. Loading the data\n",
        "\n",
        "    X9  = st.number_input(\"After-tax net Interest Rate\")\n",
        "    X11 = st.number_input(\"Continuous interest rate_(after tax)\")\n",
        "    X14 = st.number_input(\"Cash flow rate\")\n",
        "    X19 = st.number_input(\"Net Value Per Share (C)\")\n",
        "    X34 = st.number_input(\"Current Ratio\")\n",
        "    X36 = st.number_input(\"Interest Expense Ratio\")\n",
        "    X47 = st.number_input(\"Accounts Receivable Turnover\")\n",
        "    X49 = st.number_input(\"Inventory Turnover Rate (times)\")\n",
        "    X59 = st.number_input(\"Quick Assets/Current Liability\")\n",
        "    X95 = st.selectbox('Net Income Flag',(\"0\",\"1\"))\n",
        "\n",
        "    result =\"\"\n",
        "\n",
        "    # when 'Check' is clicked, make the prediction and store it\n",
        "    if st.button(\"Check\"):\n",
        "        result = prediction([X9, X11, X14, X19, X34, X36, X47, X49, X59, X95])\n",
        "        st.success('Your loan is {}'.format(result))\n",
        "\n",
        "# defining the function which will make the prediction using the data which the user inputs\n",
        "def prediction(Gender, Married, ApplicantIncome, LoanAmount):\n",
        "    # header of the page\n",
        "    st.markdown(\"Company Bankruptcy Prediction\")\n",
        "\n",
        "    prediction = classifier.predict([['X9', 'X11', 'X14', 'X19', 'X34', 'X36', 'X47', 'X49', 'X59', 'X95']])\n",
        "\n",
        "    # Get the probability of the positive class (Approved)\n",
        "    probability_approved = prediction_proba[0, 1]\n",
        "\n",
        "    # Convert probability to percentage\n",
        "    confidence_percentage = round(probability_approved * 100, 2)\n",
        "\n",
        "    return f\" Company to get bankrupted is {confidence_percentage} percentage\"\n",
        "\n",
        "if __name__=='__main__':\n",
        "    main()"
      ],
      "metadata": {
        "colab": {
          "base_uri": "https://localhost:8080/"
        },
        "id": "Y5HXgGA9EnH9",
        "outputId": "e469cb53-11bd-4ecf-efea-a26f7ff7723c"
      },
      "execution_count": 23,
      "outputs": [
        {
          "output_type": "stream",
          "name": "stdout",
          "text": [
            "Overwriting app.py\n"
          ]
        }
      ]
    },
    {
      "cell_type": "code",
      "source": [],
      "metadata": {
        "id": "fDKFr7TQaasW"
      },
      "execution_count": 23,
      "outputs": []
    }
  ]
}